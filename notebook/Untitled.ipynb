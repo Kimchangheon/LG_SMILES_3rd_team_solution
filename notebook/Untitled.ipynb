{
 "cells": [
  {
   "cell_type": "code",
   "execution_count": 1,
   "metadata": {},
   "outputs": [],
   "source": [
    "import json"
   ]
  },
  {
   "cell_type": "code",
   "execution_count": 5,
   "metadata": {},
   "outputs": [],
   "source": [
    "with open('/home/jaeho_ubuntu/SMILES/data/input_data/TOKENMAP_seed_123_max75smiles.json', 'r') as j:\n",
    "    sequences = json.load(j)"
   ]
  },
  {
   "cell_type": "code",
   "execution_count": 6,
   "metadata": {
    "scrolled": true
   },
   "outputs": [
    {
     "data": {
      "text/plain": [
       "{'C': 1,\n",
       " 'c': 2,\n",
       " '1': 3,\n",
       " '(': 4,\n",
       " 'N': 5,\n",
       " '=': 6,\n",
       " 'O': 7,\n",
       " ')': 8,\n",
       " 'S': 9,\n",
       " '2': 10,\n",
       " 'n': 11,\n",
       " '-': 12,\n",
       " 'F': 13,\n",
       " '3': 14,\n",
       " 'B': 15,\n",
       " 'r': 16,\n",
       " '[': 17,\n",
       " '@': 18,\n",
       " 'H': 19,\n",
       " ']': 20,\n",
       " '+': 21,\n",
       " '#': 22,\n",
       " 'l': 23,\n",
       " 'i': 24,\n",
       " 'P': 25,\n",
       " '.': 26,\n",
       " 'u': 27,\n",
       " 't': 28,\n",
       " 'o': 29,\n",
       " '4': 30,\n",
       " 'b': 31,\n",
       " 's': 32,\n",
       " '/': 33,\n",
       " 'I': 34,\n",
       " 'e': 35,\n",
       " '5': 36,\n",
       " '0': 37,\n",
       " '\\\\': 38,\n",
       " 'G': 39,\n",
       " 'a': 40,\n",
       " 'g': 41,\n",
       " 'T': 42,\n",
       " 'A': 43,\n",
       " '9': 44,\n",
       " '8': 45,\n",
       " 'R': 46,\n",
       " 'K': 47,\n",
       " 'W': 48,\n",
       " 'p': 49,\n",
       " 'Y': 50,\n",
       " 'Z': 51,\n",
       " '6': 52,\n",
       " 'd': 53,\n",
       " '7': 54,\n",
       " 'L': 55,\n",
       " 'M': 56,\n",
       " 'h': 57,\n",
       " 'V': 58,\n",
       " 'f': 59,\n",
       " 'E': 60,\n",
       " 'U': 61,\n",
       " 'm': 62,\n",
       " 'D': 63,\n",
       " 'y': 64,\n",
       " 'X': 65,\n",
       " 'k': 66,\n",
       " '<unk>': 67,\n",
       " '<start>': 68,\n",
       " '<end>': 69,\n",
       " '<pad>': 0}"
      ]
     },
     "execution_count": 6,
     "metadata": {},
     "output_type": "execute_result"
    }
   ],
   "source": [
    "sequences"
   ]
  },
  {
   "cell_type": "code",
   "execution_count": 7,
   "metadata": {},
   "outputs": [],
   "source": [
    "reversed_token_map = dict((v, k) for k, v in sequences.items())"
   ]
  },
  {
   "cell_type": "code",
   "execution_count": 8,
   "metadata": {
    "scrolled": true
   },
   "outputs": [
    {
     "data": {
      "text/plain": [
       "{1: 'C',\n",
       " 2: 'c',\n",
       " 3: '1',\n",
       " 4: '(',\n",
       " 5: 'N',\n",
       " 6: '=',\n",
       " 7: 'O',\n",
       " 8: ')',\n",
       " 9: 'S',\n",
       " 10: '2',\n",
       " 11: 'n',\n",
       " 12: '-',\n",
       " 13: 'F',\n",
       " 14: '3',\n",
       " 15: 'B',\n",
       " 16: 'r',\n",
       " 17: '[',\n",
       " 18: '@',\n",
       " 19: 'H',\n",
       " 20: ']',\n",
       " 21: '+',\n",
       " 22: '#',\n",
       " 23: 'l',\n",
       " 24: 'i',\n",
       " 25: 'P',\n",
       " 26: '.',\n",
       " 27: 'u',\n",
       " 28: 't',\n",
       " 29: 'o',\n",
       " 30: '4',\n",
       " 31: 'b',\n",
       " 32: 's',\n",
       " 33: '/',\n",
       " 34: 'I',\n",
       " 35: 'e',\n",
       " 36: '5',\n",
       " 37: '0',\n",
       " 38: '\\\\',\n",
       " 39: 'G',\n",
       " 40: 'a',\n",
       " 41: 'g',\n",
       " 42: 'T',\n",
       " 43: 'A',\n",
       " 44: '9',\n",
       " 45: '8',\n",
       " 46: 'R',\n",
       " 47: 'K',\n",
       " 48: 'W',\n",
       " 49: 'p',\n",
       " 50: 'Y',\n",
       " 51: 'Z',\n",
       " 52: '6',\n",
       " 53: 'd',\n",
       " 54: '7',\n",
       " 55: 'L',\n",
       " 56: 'M',\n",
       " 57: 'h',\n",
       " 58: 'V',\n",
       " 59: 'f',\n",
       " 60: 'E',\n",
       " 61: 'U',\n",
       " 62: 'm',\n",
       " 63: 'D',\n",
       " 64: 'y',\n",
       " 65: 'X',\n",
       " 66: 'k',\n",
       " 67: '<unk>',\n",
       " 68: '<start>',\n",
       " 69: '<end>',\n",
       " 0: '<pad>'}"
      ]
     },
     "execution_count": 8,
     "metadata": {},
     "output_type": "execute_result"
    }
   ],
   "source": [
    "reversed_token_map"
   ]
  },
  {
   "cell_type": "code",
   "execution_count": 9,
   "metadata": {},
   "outputs": [],
   "source": [
    "with open('/home/jaeho_ubuntu/SMILES/data/input_data/REVERSED_TOKENMAP_seed_123_max75smiles.json','w') as j:\n",
    "    json.dump(reversed_token_map,j)"
   ]
  },
  {
   "cell_type": "code",
   "execution_count": 11,
   "metadata": {},
   "outputs": [
    {
     "data": {
      "text/plain": [
       "True"
      ]
     },
     "execution_count": 11,
     "metadata": {},
     "output_type": "execute_result"
    }
   ],
   "source": [
    "reversed_token_map[69] in {'<end>','<pad>'}"
   ]
  },
  {
   "cell_type": "code",
   "execution_count": null,
   "metadata": {},
   "outputs": [],
   "source": []
  }
 ],
 "metadata": {
  "kernelspec": {
   "display_name": "Python 3",
   "language": "python",
   "name": "python3"
  },
  "language_info": {
   "codemirror_mode": {
    "name": "ipython",
    "version": 3
   },
   "file_extension": ".py",
   "mimetype": "text/x-python",
   "name": "python",
   "nbconvert_exporter": "python",
   "pygments_lexer": "ipython3",
   "version": "3.6.10"
  }
 },
 "nbformat": 4,
 "nbformat_minor": 2
}
